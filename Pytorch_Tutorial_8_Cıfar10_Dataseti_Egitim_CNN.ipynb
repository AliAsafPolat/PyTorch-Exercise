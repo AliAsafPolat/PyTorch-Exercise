{
 "cells": [
  {
   "cell_type": "code",
   "execution_count": 1,
   "metadata": {},
   "outputs": [],
   "source": [
    "import torch\n",
    "import torch.nn as nn\n",
    "import torch.nn.functional as F\n",
    "import torchvision\n",
    "import torchvision.transforms as transforms\n",
    "import matplotlib.pyplot as plt\n",
    "import numpy as np"
   ]
  },
  {
   "cell_type": "code",
   "execution_count": 2,
   "metadata": {},
   "outputs": [],
   "source": [
    "# Device konfigürasyonu\n",
    "device = torch.device('cuda' if torch.cuda.is_available() else 'cpu')"
   ]
  },
  {
   "cell_type": "code",
   "execution_count": 3,
   "metadata": {},
   "outputs": [],
   "source": [
    "# Hyperparametre ayarları\n",
    "num_epochs = 5\n",
    "batch_size = 4\n",
    "learning_rate = 0.001"
   ]
  },
  {
   "cell_type": "code",
   "execution_count": 4,
   "metadata": {},
   "outputs": [],
   "source": [
    "# Verisetindeki goruntulerin range'i 0 ve 1 arasındaymis bunlari -1, 1 arasına alalim\n",
    "transform = transforms.Compose([transforms.ToTensor(),\n",
    "                               transforms.Normalize((0.5,0.5,0.5),(0.5,0.5,0.5))])"
   ]
  },
  {
   "cell_type": "code",
   "execution_count": 6,
   "metadata": {},
   "outputs": [
    {
     "name": "stdout",
     "output_type": "stream",
     "text": [
      "Downloading https://www.cs.toronto.edu/~kriz/cifar-10-python.tar.gz to ./data\\cifar-10-python.tar.gz\n"
     ]
    },
    {
     "data": {
      "application/vnd.jupyter.widget-view+json": {
       "model_id": "f2e1c1690e004c72afa9834ac8711088",
       "version_major": 2,
       "version_minor": 0
      },
      "text/plain": [
       "HBox(children=(FloatProgress(value=1.0, bar_style='info', max=1.0), HTML(value='')))"
      ]
     },
     "metadata": {},
     "output_type": "display_data"
    },
    {
     "name": "stdout",
     "output_type": "stream",
     "text": [
      "Extracting ./data\\cifar-10-python.tar.gz to ./data\n",
      "Files already downloaded and verified\n"
     ]
    }
   ],
   "source": [
    "# CIFAR10 verisetinde 60000 ader 32x32 resim bulunur. 10 sınıf vardır.\n",
    "train_dataset = torchvision.datasets.CIFAR10(root='./data', train=True,\n",
    "                                            download=True,transform=transform)\n",
    "\n",
    "test_dataset = torchvision.datasets.CIFAR10(root='./data',train=False,\n",
    "                                           download=True, transform=transform)\n",
    "\n",
    "train_loader = torch.utils.data.DataLoader(train_dataset, batch_size=batch_size,\n",
    "                                          shuffle=True)\n",
    "\n",
    "test_loader = torch.utils.data.DataLoader(test_dataset, batch_size=batch_size,\n",
    "                                         shuffle=False)\n",
    "\n",
    "classes =  ('plane', 'car', 'bird', 'cat',\n",
    "           'deer', 'dog', 'frog', 'horse', 'ship', 'truck')"
   ]
  },
  {
   "cell_type": "code",
   "execution_count": 10,
   "metadata": {},
   "outputs": [],
   "source": [
    "def imshow(img):\n",
    "    img = img/2 +0.5 # normalize edilen degeri geri getir.\n",
    "    npimg = img.numpy()\n",
    "    plt.imshow(np.transpose(npimg,(1,2,0)))\n",
    "    plt.show()"
   ]
  },
  {
   "cell_type": "code",
   "execution_count": 8,
   "metadata": {},
   "outputs": [],
   "source": [
    "# Training resimlerinden bazılarını getirip bakalım.\n",
    "dataiter = iter(train_loader)\n",
    "images, labels = dataiter.next()"
   ]
  },
  {
   "cell_type": "code",
   "execution_count": 11,
   "metadata": {},
   "outputs": [
    {
     "data": {
      "image/png": "[encoded data removed]",
      "text/plain": [
       "<Figure size 432x288 with 1 Axes>"
      ]
     },
     "metadata": {
      "needs_background": "light"
     },
     "output_type": "display_data"
    }
   ],
   "source": [
    "imshow(torchvision.utils.make_grid(images))"
   ]
  },
  {
   "cell_type": "code",
   "execution_count": 12,
   "metadata": {},
   "outputs": [],
   "source": [
    "class ConvNet(nn.Module):\n",
    "    def __init__(self):\n",
    "        super(ConvNet,self).__init__()\n",
    "        self.conv1 = nn.Conv2d(3,6,5)\n",
    "        self.pool = nn.MaxPool2d(2,2)\n",
    "        self.conv2 = nn.Conv2d(6,16,5)\n",
    "        self.fc1 = nn.Linear(16*5*5,120)\n",
    "        self.fc2 = nn.Linear(120,84)\n",
    "        self.fc3 = nn.Linear(84,10)\n",
    "        \n",
    "    def forward(self,x):\n",
    "        x = self.pool(F.relu(self.conv1(x))) # -> n, 6, 14, 14\n",
    "        x = self.pool(F.relu(self.conv2(x))) # -> n, 16, 5, 5\n",
    "        x = x.view(-1,16*5*5)                # -> n, 400\n",
    "        x = F.relu(self.fc1(x))              # -> n, 120\n",
    "        x = F.relu(self.fc2(x))              # -> n, 84\n",
    "        x = self.fc3(x)                      # -> n, 10\n",
    "        return x"
   ]
  },
  {
   "cell_type": "code",
   "execution_count": 13,
   "metadata": {},
   "outputs": [],
   "source": [
    "model = ConvNet().to(device)"
   ]
  },
  {
   "cell_type": "code",
   "execution_count": 14,
   "metadata": {},
   "outputs": [],
   "source": [
    "criterion = nn.CrossEntropyLoss()\n",
    "optimizer = torch.optim.SGD(model.parameters(), lr = learning_rate)\n",
    "n_total_steps = len(train_loader)"
   ]
  },
  {
   "cell_type": "code",
   "execution_count": 17,
   "metadata": {},
   "outputs": [
    {
     "name": "stdout",
     "output_type": "stream",
     "text": [
      "Epoch [1/5], Step [1000/12500],Loss: 2.3041 \n",
      "Epoch [1/5], Step [2000/12500],Loss: 2.3117 \n",
      "Epoch [1/5], Step [3000/12500],Loss: 2.2944 \n",
      "Epoch [1/5], Step [4000/12500],Loss: 2.3014 \n",
      "Epoch [1/5], Step [5000/12500],Loss: 2.2997 \n",
      "Epoch [1/5], Step [6000/12500],Loss: 2.2914 \n",
      "Epoch [1/5], Step [7000/12500],Loss: 2.2893 \n",
      "Epoch [1/5], Step [8000/12500],Loss: 2.3008 \n",
      "Epoch [1/5], Step [9000/12500],Loss: 2.3039 \n",
      "Epoch [1/5], Step [10000/12500],Loss: 2.2704 \n",
      "Epoch [1/5], Step [11000/12500],Loss: 2.2674 \n",
      "Epoch [1/5], Step [12000/12500],Loss: 2.2599 \n",
      "Epoch [2/5], Step [1000/12500],Loss: 2.2474 \n",
      "Epoch [2/5], Step [2000/12500],Loss: 2.1164 \n",
      "Epoch [2/5], Step [3000/12500],Loss: 2.0844 \n",
      "Epoch [2/5], Step [4000/12500],Loss: 1.7241 \n",
      "Epoch [2/5], Step [5000/12500],Loss: 2.1825 \n",
      "Epoch [2/5], Step [6000/12500],Loss: 2.2173 \n",
      "Epoch [2/5], Step [7000/12500],Loss: 2.7898 \n",
      "Epoch [2/5], Step [8000/12500],Loss: 1.8167 \n",
      "Epoch [2/5], Step [9000/12500],Loss: 1.6953 \n",
      "Epoch [2/5], Step [10000/12500],Loss: 2.1645 \n",
      "Epoch [2/5], Step [11000/12500],Loss: 1.5952 \n",
      "Epoch [2/5], Step [12000/12500],Loss: 2.0756 \n",
      "Epoch [3/5], Step [1000/12500],Loss: 1.3607 \n",
      "Epoch [3/5], Step [2000/12500],Loss: 1.3074 \n",
      "Epoch [3/5], Step [3000/12500],Loss: 2.1758 \n",
      "Epoch [3/5], Step [4000/12500],Loss: 2.2870 \n",
      "Epoch [3/5], Step [5000/12500],Loss: 1.3774 \n",
      "Epoch [3/5], Step [6000/12500],Loss: 1.5756 \n",
      "Epoch [3/5], Step [7000/12500],Loss: 2.1160 \n",
      "Epoch [3/5], Step [8000/12500],Loss: 1.6283 \n",
      "Epoch [3/5], Step [9000/12500],Loss: 1.9677 \n",
      "Epoch [3/5], Step [10000/12500],Loss: 1.5189 \n",
      "Epoch [3/5], Step [11000/12500],Loss: 1.1534 \n",
      "Epoch [3/5], Step [12000/12500],Loss: 2.6045 \n",
      "Epoch [4/5], Step [1000/12500],Loss: 1.3152 \n",
      "Epoch [4/5], Step [2000/12500],Loss: 0.9539 \n",
      "Epoch [4/5], Step [3000/12500],Loss: 1.8195 \n",
      "Epoch [4/5], Step [4000/12500],Loss: 0.8365 \n",
      "Epoch [4/5], Step [5000/12500],Loss: 1.3802 \n",
      "Epoch [4/5], Step [6000/12500],Loss: 1.5882 \n",
      "Epoch [4/5], Step [7000/12500],Loss: 2.2347 \n",
      "Epoch [4/5], Step [8000/12500],Loss: 1.4606 \n",
      "Epoch [4/5], Step [9000/12500],Loss: 0.5452 \n",
      "Epoch [4/5], Step [10000/12500],Loss: 2.3651 \n",
      "Epoch [4/5], Step [11000/12500],Loss: 1.2561 \n",
      "Epoch [4/5], Step [12000/12500],Loss: 1.1880 \n",
      "Epoch [5/5], Step [1000/12500],Loss: 1.2593 \n",
      "Epoch [5/5], Step [2000/12500],Loss: 1.5965 \n",
      "Epoch [5/5], Step [3000/12500],Loss: 1.9406 \n",
      "Epoch [5/5], Step [4000/12500],Loss: 1.6896 \n",
      "Epoch [5/5], Step [5000/12500],Loss: 0.7167 \n",
      "Epoch [5/5], Step [6000/12500],Loss: 1.1900 \n",
      "Epoch [5/5], Step [7000/12500],Loss: 1.1715 \n",
      "Epoch [5/5], Step [8000/12500],Loss: 1.1105 \n",
      "Epoch [5/5], Step [9000/12500],Loss: 0.9926 \n",
      "Epoch [5/5], Step [10000/12500],Loss: 0.9458 \n",
      "Epoch [5/5], Step [11000/12500],Loss: 0.9309 \n",
      "Epoch [5/5], Step [12000/12500],Loss: 1.7145 \n",
      "Egitim bitti!\n"
     ]
    }
   ],
   "source": [
    "for epoch in range(num_epochs):\n",
    "    for i, (images,labels) in enumerate(train_loader):\n",
    "        # Asil shape : [4,3,32,32] = 4,3,1024\n",
    "        # Input layer = 3 input channels, 6 output channels, 5 kernel size\n",
    "        images = images.to(device)\n",
    "        labels = labels.to(device)\n",
    "        \n",
    "        #forward pass\n",
    "        outputs = model(images)\n",
    "        loss = criterion(outputs, labels)\n",
    "        \n",
    "        # Backward ve optimizasyonlar\n",
    "        optimizer.zero_grad()\n",
    "        loss.backward()\n",
    "        optimizer.step()\n",
    "        \n",
    "        if(i+1)%1000 == 0:\n",
    "            print(f'Epoch [{epoch+1}/{num_epochs}], Step [{i+1}/{n_total_steps}],Loss: {loss.item():.4f} ')\n",
    "\n",
    "print('Egitim bitti!')\n",
    "Path = './cnn.pth'\n",
    "torch.save(model.state_dict(),Path)                  \n",
    "    "
   ]
  },
  {
   "cell_type": "code",
   "execution_count": 22,
   "metadata": {},
   "outputs": [
    {
     "name": "stdout",
     "output_type": "stream",
     "text": [
      "Accuracy for network : 47.58 %\n",
      "Accuracy of plane: 57.7 %\n",
      "Accuracy of car: 72.0 %\n",
      "Accuracy of bird: 40.6 %\n",
      "Accuracy of cat: 35.9 %\n",
      "Accuracy of deer: 33.0 %\n",
      "Accuracy of dog: 36.7 %\n",
      "Accuracy of frog: 64.6 %\n",
      "Accuracy of horse: 46.1 %\n",
      "Accuracy of ship: 57.8 %\n",
      "Accuracy of truck: 31.4 %\n"
     ]
    }
   ],
   "source": [
    "with torch.no_grad():\n",
    "    n_correct = 0\n",
    "    n_samples = 0\n",
    "    n_class_correct = [0 for i in range(10)]\n",
    "    n_class_samples = [0 for i in range(10)]\n",
    "    \n",
    "    for images, labels in test_loader:\n",
    "        images = images.to(device)\n",
    "        labels = labels.to(device)\n",
    "        outputs = model(images)\n",
    "        \n",
    "        _, predicted = torch.max(outputs,1)\n",
    "        n_samples += labels.size(0)\n",
    "        n_correct += (predicted == labels).sum().item()\n",
    "        \n",
    "        for i in range(batch_size):\n",
    "            label = labels[i]\n",
    "            pred = predicted[i]\n",
    "            if(label == pred):\n",
    "                n_class_correct[label] += 1\n",
    "            n_class_samples[label] += 1\n",
    "        \n",
    "    acc = 100.0 * n_correct / n_samples\n",
    "    print(f'Accuracy for network : {acc} %')\n",
    "        \n",
    "    for i in range(10):\n",
    "        acc = 100.0 * n_class_correct[i] / n_class_samples[i]\n",
    "        print(f'Accuracy of {classes[i]}: {acc} %')"
   ]
  },
  {
   "cell_type": "code",
   "execution_count": null,
   "metadata": {},
   "outputs": [],
   "source": []
  }
 ],
 "metadata": {
  "kernelspec": {
   "display_name": "Python(pytorch)",
   "language": "python",
   "name": "pytorch"
  },
  "language_info": {
   "codemirror_mode": {
    "name": "ipython",
    "version": 3
   },
   "file_extension": ".py",
   "mimetype": "text/x-python",
   "name": "python",
   "nbconvert_exporter": "python",
   "pygments_lexer": "ipython3",
   "version": "3.6.10"
  }
 },
 "nbformat": 4,
 "nbformat_minor": 2
}
