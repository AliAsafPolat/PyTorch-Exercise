{
 "cells": [
  {
   "cell_type": "code",
   "execution_count": 1,
   "metadata": {},
   "outputs": [],
   "source": [
    "import torch\n",
    "import torch.nn as nn"
   ]
  },
  {
   "cell_type": "code",
   "execution_count": 2,
   "metadata": {},
   "outputs": [],
   "source": [
    "import numpy as np"
   ]
  },
  {
   "cell_type": "code",
   "execution_count": 3,
   "metadata": {},
   "outputs": [],
   "source": [
    "from sklearn import datasets"
   ]
  },
  {
   "cell_type": "code",
   "execution_count": 4,
   "metadata": {},
   "outputs": [],
   "source": [
    "import matplotlib.pyplot as plt"
   ]
  },
  {
   "cell_type": "code",
   "execution_count": 5,
   "metadata": {},
   "outputs": [],
   "source": [
    "# Dataseti hazırlama kısmı.\n",
    "X_numpy, Y_numpy = datasets.make_regression(n_samples=100, n_features=1,noise=20,random_state=1)"
   ]
  },
  {
   "cell_type": "code",
   "execution_count": 7,
   "metadata": {},
   "outputs": [],
   "source": [
    "X = torch.from_numpy(X_numpy.astype(np.float32))\n",
    "Y = torch.from_numpy(Y_numpy.astype(np.float32))\n",
    "Y = Y.view(Y.shape[0],1)"
   ]
  },
  {
   "cell_type": "code",
   "execution_count": 8,
   "metadata": {},
   "outputs": [],
   "source": [
    "n_samples, n_features = X.shape"
   ]
  },
  {
   "cell_type": "code",
   "execution_count": 9,
   "metadata": {},
   "outputs": [],
   "source": [
    "# Modeli hazırlama kısmı\n",
    "input_size = n_features\n",
    "output_size = 1\n",
    "model = nn.Linear(input_size, output_size)\n"
   ]
  },
  {
   "cell_type": "code",
   "execution_count": 10,
   "metadata": {},
   "outputs": [],
   "source": [
    "# Loss ve optimizer ayarlama kısımları\n",
    "criterion = nn.MSELoss()\n",
    "learning_rate = 0.01\n",
    "optimizer = torch.optim.SGD(model.parameters(), lr = learning_rate)"
   ]
  },
  {
   "cell_type": "code",
   "execution_count": 12,
   "metadata": {},
   "outputs": [
    {
     "name": "stdout",
     "output_type": "stream",
     "text": [
      "epoch : 1, loss= 559.7015\n",
      "epoch : 2, loss= 552.6465\n",
      "epoch : 3, loss= 545.8115\n",
      "epoch : 4, loss= 539.1899\n",
      "epoch : 5, loss= 532.7747\n",
      "epoch : 6, loss= 526.5594\n",
      "epoch : 7, loss= 520.5379\n",
      "epoch : 8, loss= 514.7042\n",
      "epoch : 9, loss= 509.0523\n",
      "epoch : 10, loss= 503.5763\n",
      "epoch : 11, loss= 498.2709\n",
      "epoch : 12, loss= 493.1310\n",
      "epoch : 13, loss= 488.1510\n",
      "epoch : 14, loss= 483.3260\n",
      "epoch : 15, loss= 478.6514\n",
      "epoch : 16, loss= 474.1221\n",
      "epoch : 17, loss= 469.7339\n",
      "epoch : 18, loss= 465.4821\n",
      "epoch : 19, loss= 461.3627\n",
      "epoch : 20, loss= 457.3716\n",
      "epoch : 21, loss= 453.5044\n",
      "epoch : 22, loss= 449.7575\n",
      "epoch : 23, loss= 446.1272\n",
      "epoch : 24, loss= 442.6098\n",
      "epoch : 25, loss= 439.2015\n",
      "epoch : 26, loss= 435.8993\n",
      "epoch : 27, loss= 432.6997\n",
      "epoch : 28, loss= 429.5996\n",
      "epoch : 29, loss= 426.5957\n",
      "epoch : 30, loss= 423.6851\n",
      "epoch : 31, loss= 420.8650\n",
      "epoch : 32, loss= 418.1324\n",
      "epoch : 33, loss= 415.4845\n",
      "epoch : 34, loss= 412.9189\n",
      "epoch : 35, loss= 410.4330\n",
      "epoch : 36, loss= 408.0243\n",
      "epoch : 37, loss= 405.6903\n",
      "epoch : 38, loss= 403.4287\n",
      "epoch : 39, loss= 401.2374\n",
      "epoch : 40, loss= 399.1140\n",
      "epoch : 41, loss= 397.0564\n",
      "epoch : 42, loss= 395.0627\n",
      "epoch : 43, loss= 393.1307\n",
      "epoch : 44, loss= 391.2587\n",
      "epoch : 45, loss= 389.4447\n",
      "epoch : 46, loss= 387.6870\n",
      "epoch : 47, loss= 385.9836\n",
      "epoch : 48, loss= 384.3332\n",
      "epoch : 49, loss= 382.7338\n",
      "epoch : 50, loss= 381.1840\n",
      "epoch : 51, loss= 379.6822\n",
      "epoch : 52, loss= 378.2270\n",
      "epoch : 53, loss= 376.8168\n",
      "epoch : 54, loss= 375.4502\n",
      "epoch : 55, loss= 374.1260\n",
      "epoch : 56, loss= 372.8428\n",
      "epoch : 57, loss= 371.5994\n",
      "epoch : 58, loss= 370.3943\n",
      "epoch : 59, loss= 369.2267\n",
      "epoch : 60, loss= 368.0952\n",
      "epoch : 61, loss= 366.9986\n",
      "epoch : 62, loss= 365.9360\n",
      "epoch : 63, loss= 364.9062\n",
      "epoch : 64, loss= 363.9084\n",
      "epoch : 65, loss= 362.9414\n",
      "epoch : 66, loss= 362.0042\n",
      "epoch : 67, loss= 361.0961\n",
      "epoch : 68, loss= 360.2161\n",
      "epoch : 69, loss= 359.3633\n",
      "epoch : 70, loss= 358.5368\n",
      "epoch : 71, loss= 357.7359\n",
      "epoch : 72, loss= 356.9597\n",
      "epoch : 73, loss= 356.2076\n",
      "epoch : 74, loss= 355.4786\n",
      "epoch : 75, loss= 354.7723\n",
      "epoch : 76, loss= 354.0877\n",
      "epoch : 77, loss= 353.4243\n",
      "epoch : 78, loss= 352.7813\n",
      "epoch : 79, loss= 352.1582\n",
      "epoch : 80, loss= 351.5544\n",
      "epoch : 81, loss= 350.9693\n",
      "epoch : 82, loss= 350.4022\n",
      "epoch : 83, loss= 349.8526\n",
      "epoch : 84, loss= 349.3200\n",
      "epoch : 85, loss= 348.8039\n",
      "epoch : 86, loss= 348.3037\n",
      "epoch : 87, loss= 347.8189\n",
      "epoch : 88, loss= 347.3490\n",
      "epoch : 89, loss= 346.8937\n",
      "epoch : 90, loss= 346.4525\n",
      "epoch : 91, loss= 346.0248\n",
      "epoch : 92, loss= 345.6104\n",
      "epoch : 93, loss= 345.2087\n",
      "epoch : 94, loss= 344.8195\n",
      "epoch : 95, loss= 344.4422\n",
      "epoch : 96, loss= 344.0766\n",
      "epoch : 97, loss= 343.7222\n",
      "epoch : 98, loss= 343.3788\n",
      "epoch : 99, loss= 343.0460\n",
      "epoch : 100, loss= 342.7235\n"
     ]
    }
   ],
   "source": [
    "# Training kısmı\n",
    "num_epochs = 100\n",
    "for epoch in range(num_epochs):\n",
    "    # forward pass ve loss\n",
    "    y_predicted = model(X)\n",
    "    loss = criterion(y_predicted, Y)\n",
    "    \n",
    "    # backward pass kısmı\n",
    "    loss.backward()\n",
    "    \n",
    "    # weight update kısmı\n",
    "    optimizer.step()\n",
    "    \n",
    "    optimizer.zero_grad()\n",
    "    \n",
    "    if(epoch % 1 == 0):\n",
    "        print(f'epoch : {epoch +1}, loss= {loss.item():.4f}')"
   ]
  },
  {
   "cell_type": "code",
   "execution_count": 13,
   "metadata": {},
   "outputs": [
    {
     "data": {
      "image/png": "[encoded data removed]",
      "text/plain": [
       "<Figure size 432x288 with 1 Axes>"
      ]
     },
     "metadata": {
      "needs_background": "light"
     },
     "output_type": "display_data"
    }
   ],
   "source": [
    "predicted = model(X).detach() # Gradient hesaplamasını istemediği yeni bir tensor oluşturuyor.\n",
    "plt.plot(X_numpy,Y_numpy,'ro')\n",
    "plt.plot(X_numpy, predicted,'b')\n",
    "plt.show()"
   ]
  },
  {
   "cell_type": "code",
   "execution_count": null,
   "metadata": {},
   "outputs": [],
   "source": []
  }
 ],
 "metadata": {
  "kernelspec": {
   "display_name": "Python(pytorch)",
   "language": "python",
   "name": "pytorch"
  },
  "language_info": {
   "codemirror_mode": {
    "name": "ipython",
    "version": 3
   },
   "file_extension": ".py",
   "mimetype": "text/x-python",
   "name": "python",
   "nbconvert_exporter": "python",
   "pygments_lexer": "ipython3",
   "version": "3.6.10"
  }
 },
 "nbformat": 4,
 "nbformat_minor": 4
}
