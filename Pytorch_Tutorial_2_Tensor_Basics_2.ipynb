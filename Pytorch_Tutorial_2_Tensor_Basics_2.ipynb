{
 "cells": [
  {
   "cell_type": "code",
   "execution_count": 2,
   "metadata": {},
   "outputs": [],
   "source": [
    "import torch\n",
    "import numpy as np"
   ]
  },
  {
   "cell_type": "code",
   "execution_count": 4,
   "metadata": {},
   "outputs": [],
   "source": [
    "#Linear regression\n",
    "#f = w * x\n",
    "\n",
    "#Burada f = 2* X yapmaya çalışacağız.\n",
    "X = np.array([1,2,3,4],dtype = np.float32)\n",
    "Y = np.array([2,4,6,8],dtype = np.float32)\n",
    "\n",
    "w = 0.0"
   ]
  },
  {
   "cell_type": "code",
   "execution_count": 10,
   "metadata": {},
   "outputs": [],
   "source": [
    "# Model çıktısı:\n",
    "def forward(x):\n",
    "    return w * x"
   ]
  },
  {
   "cell_type": "code",
   "execution_count": 6,
   "metadata": {},
   "outputs": [],
   "source": [
    "# Loss MSE olacak.\n",
    "def loss(y, y_pred):\n",
    "    return ((y_pred - y)**2).mean()"
   ]
  },
  {
   "cell_type": "code",
   "execution_count": 7,
   "metadata": {},
   "outputs": [],
   "source": [
    "# J = MSE = 1/N * (w*x - y)**2\n",
    "# dJ/dw = 1/N * 2x * (w*x - y)  -> MSE nin w ye göre türevi alındı.\n",
    "def gradient(x, y, y_pred):\n",
    "    return np.dot(2*x, y_pred - y).mean()"
   ]
  },
  {
   "cell_type": "code",
   "execution_count": 11,
   "metadata": {},
   "outputs": [
    {
     "name": "stdout",
     "output_type": "stream",
     "text": [
      "Egitimden once prediction degeri : f(5) =  0.000\n"
     ]
    }
   ],
   "source": [
    "print(f'Egitimden once prediction degeri : f(5) = {forward(5) : .3f}')"
   ]
  },
  {
   "cell_type": "code",
   "execution_count": 15,
   "metadata": {},
   "outputs": [
    {
     "name": "stdout",
     "output_type": "stream",
     "text": [
      "epoch 1: w = 2.000, loss: 0.00000\n",
      "epoch 2: w = 2.000, loss: 0.00000\n",
      "epoch 3: w = 2.000, loss: 0.00000\n",
      "epoch 4: w = 2.000, loss: 0.00000\n",
      "epoch 5: w = 2.000, loss: 0.00000\n",
      "epoch 6: w = 2.000, loss: 0.00000\n",
      "epoch 7: w = 2.000, loss: 0.00000\n",
      "epoch 8: w = 2.000, loss: 0.00000\n",
      "epoch 9: w = 2.000, loss: 0.00000\n",
      "epoch 10: w = 2.000, loss: 0.00000\n",
      "epoch 11: w = 2.000, loss: 0.00000\n",
      "epoch 12: w = 2.000, loss: 0.00000\n",
      "epoch 13: w = 2.000, loss: 0.00000\n",
      "epoch 14: w = 2.000, loss: 0.00000\n",
      "epoch 15: w = 2.000, loss: 0.00000\n",
      "epoch 16: w = 2.000, loss: 0.00000\n",
      "epoch 17: w = 2.000, loss: 0.00000\n",
      "epoch 18: w = 2.000, loss: 0.00000\n",
      "epoch 19: w = 2.000, loss: 0.00000\n",
      "epoch 20: w = 2.000, loss: 0.00000\n"
     ]
    }
   ],
   "source": [
    "#Training kısmı\n",
    "learning_rate = 0.01\n",
    "iterasyon_sayisi = 20\n",
    "\n",
    "for epoch in range(iterasyon_sayisi):\n",
    "    # predict = forward pass\n",
    "    y_pred = forward(X)\n",
    "    \n",
    "    # loss kısmı\n",
    "    l = loss(Y, y_pred)\n",
    "    \n",
    "    # gradient degerlerini hesapla\n",
    "    dw = gradient(X, Y, y_pred)\n",
    "    \n",
    "    # weight degerlerini guncelle\n",
    "    w -= learning_rate * dw\n",
    "    \n",
    "    if(epoch % 1 == 0):\n",
    "        print(f'epoch {epoch +1}: w = {w:.3f}, loss: {l:.5f}')"
   ]
  },
  {
   "cell_type": "code",
   "execution_count": 16,
   "metadata": {},
   "outputs": [
    {
     "name": "stdout",
     "output_type": "stream",
     "text": [
      "Egitimden sonra prediction degeri : f(5) = 10.000\n"
     ]
    }
   ],
   "source": [
    "print(f'Egitimden sonra prediction degeri : f(5) = {forward(5):.3f}')"
   ]
  },
  {
   "cell_type": "code",
   "execution_count": null,
   "metadata": {},
   "outputs": [],
   "source": []
  }
 ],
 "metadata": {
  "kernelspec": {
   "display_name": "Python(pytorch)",
   "language": "python",
   "name": "pytorch"
  },
  "language_info": {
   "codemirror_mode": {
    "name": "ipython",
    "version": 3
   },
   "file_extension": ".py",
   "mimetype": "text/x-python",
   "name": "python",
   "nbconvert_exporter": "python",
   "pygments_lexer": "ipython3",
   "version": "3.6.10"
  }
 },
 "nbformat": 4,
 "nbformat_minor": 4
}
